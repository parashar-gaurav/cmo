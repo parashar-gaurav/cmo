{
 "cells": [
  {
   "cell_type": "code",
   "execution_count": 1,
   "metadata": {},
   "outputs": [],
   "source": [
    "import numpy as np"
   ]
  },
  {
   "cell_type": "code",
   "execution_count": 12,
   "metadata": {},
   "outputs": [],
   "source": [
    "def f1(x):\n",
    "    x_0 = x[0]\n",
    "    x_1 = x[1]\n",
    "    return 5*(x_0**2) + 5*(x_1**2) -x_0*x_1 -11*x_0 +11*x_1 +11\n",
    "\n",
    "def grad_f1(x):\n",
    "    x_0 = x[0]\n",
    "    x_1 = x[1]\n",
    "    res0 = 10*x_0 - x_1 - 11\n",
    "    res1 = 10*x_1 - x_0 + 11\n",
    "    res = []\n",
    "    res.append(res0)\n",
    "    res.append(res1)\n",
    "    return res\n",
    "\n",
    "def hess_f1():\n",
    "    A = np.matrix([[10,-1],[-1,10]])\n",
    "    return A"
   ]
  },
  {
   "cell_type": "code",
   "execution_count": 13,
   "metadata": {},
   "outputs": [
    {
     "data": {
      "text/plain": [
       "matrix([[10, -1],\n",
       "        [-1, 10]])"
      ]
     },
     "execution_count": 13,
     "metadata": {},
     "output_type": "execute_result"
    }
   ],
   "source": [
    "hess_f()"
   ]
  },
  {
   "cell_type": "markdown",
   "metadata": {},
   "source": [
    "## $x_k = x_k - \\frac{\\nabla f(x_k)^T \\nabla f(x_k)}{\\nabla f(x_k)^TQf(x_k)} \\nabla f(x_k)$"
   ]
  },
  {
   "cell_type": "code",
   "execution_count": 14,
   "metadata": {},
   "outputs": [],
   "source": [
    "def steepest_gds(x,f,g,h,eps):\n",
    "    iters = 0\n",
    "    x_k = x\n",
    "    while f(x_k) > eps:\n",
    "        grad = grad_f(x_k)\n",
    "        num = grad[0]*grad[0]+grad[1]*grad[1]\n",
    "        denom = 10*grad[0]*grad[0] + 10*grad[1]*grad[1] - 2*grad[0]*grad[1]\n",
    "        alpha = num/denom\n",
    "        x_k[0] = x_k[0] - alpha*grad[0]\n",
    "        x_k[1] = x_k[1] - alpha*grad[1]\n",
    "        iters += 1\n",
    "    return x_k,iters\n",
    "    "
   ]
  },
  {
   "cell_type": "code",
   "execution_count": 20,
   "metadata": {},
   "outputs": [],
   "source": [
    "x_0 = [0,0]\n",
    "x_opt , iterations = steepest_gds(x_0,f1,grad_f1,hess_f1,1e-11)"
   ]
  },
  {
   "cell_type": "code",
   "execution_count": 21,
   "metadata": {},
   "outputs": [
    {
     "data": {
      "text/plain": [
       "1"
      ]
     },
     "execution_count": 21,
     "metadata": {},
     "output_type": "execute_result"
    }
   ],
   "source": [
    "iterations"
   ]
  },
  {
   "cell_type": "code",
   "execution_count": null,
   "metadata": {},
   "outputs": [],
   "source": []
  }
 ],
 "metadata": {
  "kernelspec": {
   "display_name": "Python 3",
   "language": "python",
   "name": "python3"
  },
  "language_info": {
   "codemirror_mode": {
    "name": "ipython",
    "version": 3
   },
   "file_extension": ".py",
   "mimetype": "text/x-python",
   "name": "python",
   "nbconvert_exporter": "python",
   "pygments_lexer": "ipython3",
   "version": "3.7.6"
  }
 },
 "nbformat": 4,
 "nbformat_minor": 4
}
