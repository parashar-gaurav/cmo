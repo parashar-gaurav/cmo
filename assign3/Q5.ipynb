{
 "cells": [
  {
   "cell_type": "code",
   "execution_count": 3,
   "metadata": {},
   "outputs": [],
   "source": [
    "import dill\n",
    "import pickle\n",
    "import numpy as np"
   ]
  },
  {
   "cell_type": "code",
   "execution_count": 2,
   "metadata": {},
   "outputs": [],
   "source": [
    "with open('f.pkl','rb') as fp:\n",
    "    data = pickle.load(fp)\n",
    "f5 = dill.loads(data)\n",
    "\n",
    "with open('grad_f.pkl','rb') as fp:\n",
    "    data = pickle.load(fp)\n",
    "grad_f5 = dill.loads(data)\n",
    "\n",
    "with open('hessian_inv.pkl','rb') as fp:\n",
    "    data = pickle.load(fp)\n",
    "hessInv_f5 = dill.loads(data)"
   ]
  },
  {
   "cell_type": "code",
   "execution_count": 14,
   "metadata": {},
   "outputs": [
    {
     "data": {
      "text/plain": [
       "array([[0.5  , 1.   ],\n",
       "       [1.   , 2.005]])"
      ]
     },
     "execution_count": 14,
     "metadata": {},
     "output_type": "execute_result"
    }
   ],
   "source": [
    "hessInv_f5(np.array([1,1]))"
   ]
  },
  {
   "cell_type": "markdown",
   "metadata": {},
   "source": [
    "# Newton method with step size\n",
    "<br>\n",
    "$x = [0,0]\\ \\alpha = 0.1, \\beta = 0.7$\n",
    "<br>\n",
    "while True:\n",
    "<br>\n",
    "iterations = iterations+1\n",
    "<br>\n",
    "in each iteration :\n",
    "<br>\n",
    "$t = 1$\n",
    "<br>\n",
    "$u_k = -(\\nabla^{2}f(x_k))^{-1}\\nabla f(x_k)$\n",
    "<br>\n",
    "while $f(x_k+tu)>f(x_k)+\\alpha t\\nabla f(x_k)^{T}u_k :$\n",
    "    $t \\leftarrow \\beta*t$\n",
    "    <br>\n",
    "  $x_{k+1} = x_k - t (\\nabla^{2}f(x_k))^{-1}\\nabla f(x_k)$\n",
    "  <br>\n",
    "  if $||x_{k+1}-x_k||<\\epsilon$ : return $x_{k+1},\\ iterations$,\n",
    "  <br>else: $x_k = x_{k+1}$"
   ]
  },
  {
   "cell_type": "code",
   "execution_count": 33,
   "metadata": {},
   "outputs": [],
   "source": [
    "def NeWme(x):\n",
    "    alpha = 0.1\n",
    "    beta = 0.7\n",
    "    iters = 0\n",
    "    x_k = x\n",
    "    eps = 0.001\n",
    "    while True:\n",
    "        iters += 1\n",
    "        t = 1\n",
    "        u_k = -np.matmul(hessInv_f5(x_k),grad_f5(x_k))\n",
    "        print(u_k)\n",
    "        while f5(x_k+t*u_k)> f5(x_k)+alpha*t*np.dot(grad_f5(x_k),u_k):\n",
    "            t = t*beta\n",
    "        print('iterations = ',iters,'t = ',t)\n",
    "        print('x_old = ',x_k)\n",
    "        x_new = x_k + t*u_k\n",
    "        print('x_k+1 = ',x_new)\n",
    "        print('norm value of x_k+1 - x_k =',np.sqrt(np.dot((x_new - x_k),(x_new - x_k))))\n",
    "        if(np.sqrt(np.dot((x_new - x_k),(x_new - x_k)))<=eps):\n",
    "           return x_new,iters\n",
    "        x_k = x_new"
   ]
  },
  {
   "cell_type": "code",
   "execution_count": 34,
   "metadata": {},
   "outputs": [
    {
     "name": "stdout",
     "output_type": "stream",
     "text": [
      "[ 2. -0.]\n",
      "iterations =  1 t =  0.11764899999999995\n",
      "x_old =  [0 0]\n",
      "x_k+1 =  [0.235298 0.      ]\n",
      "norm value of x_k+1 - x_k = 0.2352979999999999\n",
      "[0.14616894 0.12415167]\n",
      "iterations =  2 t =  1\n",
      "x_old =  [0.235298 0.      ]\n",
      "x_k+1 =  [0.38146694 0.12415167]\n",
      "norm value of x_k+1 - x_k = 0.19177850968117796\n",
      "[0.3069431  0.25554265]\n",
      "iterations =  3 t =  0.7\n",
      "x_old =  [0.38146694 0.12415167]\n",
      "x_k+1 =  [0.59632711 0.30303152]\n",
      "norm value of x_k+1 - x_k = 0.27957627807246144\n",
      "[0.12190057 0.19795973]\n",
      "iterations =  4 t =  1\n",
      "x_old =  [0.59632711 0.30303152]\n",
      "x_k+1 =  [0.71822768 0.50099126]\n",
      "norm value of x_k+1 - x_k = 0.23248183598488079\n",
      "[0.32270607 0.47841262]\n",
      "iterations =  5 t =  0.7\n",
      "x_old =  [0.71822768 0.50099126]\n",
      "x_k+1 =  [0.94412193 0.83588009]\n",
      "norm value of x_k+1 - x_k = 0.40395388476883554\n",
      "[0.08728265 0.22029707]\n",
      "iterations =  6 t =  1\n",
      "x_old =  [0.94412193 0.83588009]\n",
      "x_k+1 =  [1.03140458 1.05617715]\n",
      "norm value of x_k+1 - x_k = 0.23695792577259858\n",
      "[0.38380701 0.79933888]\n",
      "iterations =  7 t =  0.48999999999999994\n",
      "x_old =  [1.03140458 1.05617715]\n",
      "x_k+1 =  [1.21947002 1.4478532 ]\n",
      "norm value of x_k+1 - x_k = 0.4344867518767469\n",
      "[0.08818766 0.25433834]\n",
      "iterations =  8 t =  1\n",
      "x_old =  [1.21947002 1.4478532 ]\n",
      "x_k+1 =  [1.30765768 1.70219155]\n",
      "norm value of x_k+1 - x_k = 0.26919334588305377\n",
      "[0.27093169 0.71634889]\n",
      "iterations =  9 t =  0.7\n",
      "x_old =  [1.30765768 1.70219155]\n",
      "x_k+1 =  [1.49730987 2.20363577]\n",
      "norm value of x_k+1 - x_k = 0.5361103029876454\n",
      "[0.05804592 0.21212654]\n",
      "iterations =  10 t =  1\n",
      "x_old =  [1.49730987 2.20363577]\n",
      "x_k+1 =  [1.55535579 2.41576231]\n",
      "norm value of x_k+1 - x_k = 0.21992498369369154\n",
      "[0.26563909 0.82969593]\n",
      "iterations =  11 t =  0.48999999999999994\n",
      "x_old =  [1.55535579 2.41576231]\n",
      "x_k+1 =  [1.68551895 2.82231332]\n",
      "norm value of x_k+1 - x_k = 0.42687957094760376\n",
      "[0.06645612 0.2426869 ]\n",
      "iterations =  12 t =  1\n",
      "x_old =  [1.68551895 2.82231332]\n",
      "x_k+1 =  [1.75197507 3.06500022]\n",
      "norm value of x_k+1 - x_k = 0.25162143568831186\n",
      "[0.13169817 0.46588022]\n",
      "iterations =  13 t =  1\n",
      "x_old =  [1.75197507 3.06500022]\n",
      "x_k+1 =  [1.88367323 3.53088043]\n",
      "norm value of x_k+1 - x_k = 0.48413715476775876\n",
      "[0.0260304  0.11540994]\n",
      "iterations =  14 t =  1\n",
      "x_old =  [1.88367323 3.53088043]\n",
      "x_k+1 =  [1.90970363 3.64629038]\n",
      "norm value of x_k+1 - x_k = 0.1183090720659599\n",
      "[0.0795201  0.30439721]\n",
      "iterations =  15 t =  1\n",
      "x_old =  [1.90970363 3.64629038]\n",
      "x_k+1 =  [1.98922373 3.95068759]\n",
      "norm value of x_k+1 - x_k = 0.31461263479197943\n",
      "[0.00475839 0.02525445]\n",
      "iterations =  16 t =  1\n",
      "x_old =  [1.98922373 3.95068759]\n",
      "x_k+1 =  [1.99398212 3.97594204]\n",
      "norm value of x_k+1 - x_k = 0.02569882125907469\n",
      "[0.00599075 0.02391356]\n",
      "iterations =  17 t =  1\n",
      "x_old =  [1.99398212 3.97594204]\n",
      "x_k+1 =  [1.99997287 3.9998556 ]\n",
      "norm value of x_k+1 - x_k = 0.02465253254624804\n",
      "[2.69355177e-05 1.43629750e-04]\n",
      "iterations =  18 t =  1\n",
      "x_old =  [1.99997287 3.9998556 ]\n",
      "x_k+1 =  [1.99999981 3.99999923]\n",
      "norm value of x_k+1 - x_k = 0.00014613359345351715\n"
     ]
    },
    {
     "data": {
      "text/plain": [
       "(array([1.99999981, 3.99999923]), 18)"
      ]
     },
     "execution_count": 34,
     "metadata": {},
     "output_type": "execute_result"
    }
   ],
   "source": [
    "NeWme(np.array([0,0]))"
   ]
  },
  {
   "cell_type": "code",
   "execution_count": 32,
   "metadata": {},
   "outputs": [
    {
     "data": {
      "text/plain": [
       "1"
      ]
     },
     "execution_count": 32,
     "metadata": {},
     "output_type": "execute_result"
    }
   ],
   "source": [
    "a = np.array([0,1])\n"
   ]
  },
  {
   "cell_type": "code",
   "execution_count": null,
   "metadata": {},
   "outputs": [],
   "source": []
  }
 ],
 "metadata": {
  "kernelspec": {
   "display_name": "Python 3",
   "language": "python",
   "name": "python3"
  },
  "language_info": {
   "codemirror_mode": {
    "name": "ipython",
    "version": 3
   },
   "file_extension": ".py",
   "mimetype": "text/x-python",
   "name": "python",
   "nbconvert_exporter": "python",
   "pygments_lexer": "ipython3",
   "version": "3.7.6"
  }
 },
 "nbformat": 4,
 "nbformat_minor": 4
}
