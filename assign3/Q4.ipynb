{
 "cells": [
  {
   "cell_type": "code",
   "execution_count": 1,
   "metadata": {},
   "outputs": [],
   "source": [
    "import numpy as np"
   ]
  },
  {
   "cell_type": "code",
   "execution_count": 2,
   "metadata": {},
   "outputs": [],
   "source": [
    "def f(x):\n",
    "    Q = np.array([[2,1],[1,1]])\n",
    "    b = np.array([1,-1])\n",
    "    return np.matmul(x.T,np.matmul(Q,x))+np.matmul(b.T,x)\n",
    "\n",
    "def g(x):\n",
    "    Q = np.array([[2,1],[1,1]])\n",
    "    b = np.array([1,-1])\n",
    "    return 2*np.matmul(Q,x)+b\n",
    "\n",
    "def h(x):\n",
    "    Q = np.array([[2,1],[1,1]])\n",
    "    return 2*Q"
   ]
  },
  {
   "cell_type": "code",
   "execution_count": 8,
   "metadata": {},
   "outputs": [
    {
     "data": {
      "text/plain": [
       "array([[4, 2],\n",
       "       [2, 2]])"
      ]
     },
     "execution_count": 8,
     "metadata": {},
     "output_type": "execute_result"
    }
   ],
   "source": [
    "h(np.array([2,1]))"
   ]
  },
  {
   "cell_type": "code",
   "execution_count": 34,
   "metadata": {},
   "outputs": [],
   "source": [
    "def dfp(x):\n",
    "    x_k = x\n",
    "    Q = np.array([[2,1],[1,1]])\n",
    "    b = np.array([1,-1])\n",
    "    B_k = np.array([[1,0],[0,1]])\n",
    "    iters = 0\n",
    "    while iters<5:\n",
    "        iters+=1\n",
    "        g_k = g(x_k)\n",
    "        d_k = -np.matmul(B_k,g_k)\n",
    "        alpha_k = -(np.matmul(x_k.T,np.matmul(Q,d_k))+0.5*np.matmul(b.T,d_k))\n",
    "        x_k1 = x_k + alpha_k*d_k\n",
    "        gamma_k = g(x_k1)-g(x_k)\n",
    "        delta_k = x_k1-x_k\n",
    "        term1 = delta_k - np.matmul(B_k,gamma_k)\n",
    "        #term2 = delta_k - np.matmul(B_k,gamma_k)\n",
    "        term3 = np.matmul(term1.T,gamma_k)\n",
    "        B_k1 = B_k + np.matmul(term1,term1.T)/term3\n",
    "        B_k = B_k1\n",
    "        x_k = x_k1\n",
    "        print('iteration = ',iters)\n",
    "        print('x_k = ',x_k)\n",
    "        print('B_k = ',B_k)"
   ]
  },
  {
   "cell_type": "code",
   "execution_count": 35,
   "metadata": {},
   "outputs": [
    {
     "name": "stdout",
     "output_type": "stream",
     "text": [
      "iteration =  1\n",
      "x_k =  [-1.  1.]\n",
      "B_k =  [[ 0. -1.]\n",
      " [-1.  0.]]\n",
      "iteration =  2\n",
      "x_k =  [0. 2.]\n",
      "B_k =  [[1.27586207 0.27586207]\n",
      " [0.27586207 1.27586207]]\n",
      "iteration =  3\n",
      "x_k =  [-186.13674197 -132.48156956]\n",
      "B_k =  [[-0.06665667 -1.06665667]\n",
      " [-1.06665667 -0.06665667]]\n",
      "iteration =  4\n",
      "x_k =  [5.49069398e+08 8.20867602e+08]\n",
      "B_k =  [[1.34380482 0.34380482]\n",
      " [0.34380482 1.34380482]]\n",
      "iteration =  5\n",
      "x_k =  [-1.13186400e+29 -9.28086754e+28]\n",
      "B_k =  [[-0.13165956 -1.13165956]\n",
      " [-1.13165956 -0.13165956]]\n"
     ]
    }
   ],
   "source": [
    "dfp(np.array([0,0]))"
   ]
  },
  {
   "cell_type": "code",
   "execution_count": null,
   "metadata": {},
   "outputs": [],
   "source": []
  }
 ],
 "metadata": {
  "kernelspec": {
   "display_name": "Python 3",
   "language": "python",
   "name": "python3"
  },
  "language_info": {
   "codemirror_mode": {
    "name": "ipython",
    "version": 3
   },
   "file_extension": ".py",
   "mimetype": "text/x-python",
   "name": "python",
   "nbconvert_exporter": "python",
   "pygments_lexer": "ipython3",
   "version": "3.7.6"
  }
 },
 "nbformat": 4,
 "nbformat_minor": 4
}
