{
 "cells": [
  {
   "cell_type": "code",
   "execution_count": 1,
   "metadata": {},
   "outputs": [],
   "source": [
    "import numpy as np\n",
    "import matplotlib.pyplot as plt"
   ]
  },
  {
   "cell_type": "code",
   "execution_count": 2,
   "metadata": {},
   "outputs": [],
   "source": [
    "def f(x):\n",
    "    Q = np.matrix([[2,1,1],[1,2,1],[1,1,2]])\n",
    "    b = np.matrix([4,0,0]).T\n",
    "    first_term = 0.5*np.matmul(x.T,np.matmul(Q,x))\n",
    "    second_term = np.matmul(b.T,x)\n",
    "    return first_term-second_term\n",
    "\n",
    "def grad_f(x):\n",
    "    Q = np.matrix([[2,1,1],[1,2,1],[1,1,2]])\n",
    "    b = np.matrix([4,0,0]).T\n",
    "    return np.matmul(Q,x)-b\n",
    "\n",
    "def hess_f(x):\n",
    "    Q = np.matrix([[2,1,1],[1,2,1],[1,1,2]])\n",
    "    return Q"
   ]
  },
  {
   "cell_type": "code",
   "execution_count": 3,
   "metadata": {},
   "outputs": [],
   "source": [
    "x_0 = np.matrix([0,0,0]).T\n"
   ]
  },
  {
   "cell_type": "code",
   "execution_count": 17,
   "metadata": {},
   "outputs": [],
   "source": [
    "def CG(x_0):\n",
    "    iters = 0\n",
    "    u_0 = -grad_f(x_0)\n",
    "    Q = np.matrix([[2,1,1],[1,2,1],[1,1,2]])\n",
    "    compare = u_0 - np.matrix([0,0,0]).T\n",
    "    while(not (float(u_0[0]==0.0) and float(u_0[1]==0.0) and float(u_0[2]==0.0))):\n",
    "        iters+=1\n",
    "        print('iteration = ',iters)\n",
    "        print('direction = ',u_0)\n",
    "        \n",
    "\n",
    "        beta_0 = float((-np.dot(u_0.T,grad_f(x_0)))/(np.dot(u_0.T,np.matmul(Q,u_0))))\n",
    "        print('beta = ',beta_0)\n",
    "        x_1 = x_0 + beta_0*u_0\n",
    "        gamma_0 = float(np.dot(grad_f(x_1).T,np.matmul(Q,u_0))/np.dot(u_0.T,np.matmul(Q,u_0)))\n",
    "        u_1 = -grad_f(x_1) + gamma_0*u_0\n",
    "        x_0 = x_1\n",
    "        u_0 = u_1\n",
    "        print()\n",
    "        print('gamma = ',gamma_0)\n",
    "        compare = u_0 - np.matrix([0,0,0]).T\n",
    "        print('new x = ',x_0)\n",
    "        print('new direction = ',u_0)\n",
    "        "
   ]
  },
  {
   "cell_type": "code",
   "execution_count": 18,
   "metadata": {},
   "outputs": [
    {
     "name": "stdout",
     "output_type": "stream",
     "text": [
      "iteration =  1\n",
      "direction =  [[4]\n",
      " [0]\n",
      " [0]]\n",
      "beta =  0.5\n",
      "\n",
      "gamma =  0.5\n",
      "new x =  [[2.]\n",
      " [0.]\n",
      " [0.]]\n",
      "new direction =  [[ 2.]\n",
      " [-2.]\n",
      " [-2.]]\n",
      "iteration =  2\n",
      "direction =  [[ 2.]\n",
      " [-2.]\n",
      " [-2.]]\n",
      "beta =  0.5\n",
      "\n",
      "gamma =  0.0\n",
      "new x =  [[ 3.]\n",
      " [-1.]\n",
      " [-1.]]\n",
      "new direction =  [[0.]\n",
      " [0.]\n",
      " [0.]]\n"
     ]
    }
   ],
   "source": [
    "CG(x_0)"
   ]
  },
  {
   "cell_type": "markdown",
   "metadata": {},
   "source": [
    "# Question 7\n"
   ]
  },
  {
   "cell_type": "code",
   "execution_count": 17,
   "metadata": {},
   "outputs": [],
   "source": [
    "def f7(x):\n",
    "    Q = np.matrix([[1,2,-1,1],[2,5,0,2],[-1,0,6,0],[1,2,0,3]])\n",
    "    b = np.matrix([0,2,-1,1]).T\n",
    "    first_term = 0.5*np.matmul(x.T,np.matmul(Q,x))\n",
    "    second_term = np.matmul(b.T,x)\n",
    "    return first_term-second_term\n",
    "\n",
    "def grad_f7(x):\n",
    "    Q = np.matrix([[1,2,-1,1],[2,5,0,2],[-1,0,6,0],[1,2,0,3]])\n",
    "    b = np.matrix([0,2,-1,1]).T\n",
    "    return np.matmul(Q,x)-b\n",
    "\n",
    "def hess_f7(x):\n",
    "    Q = np.matrix([[1,2,-1,1],[2,5,0,2],[-1,0,6,0],[1,2,0,3]])\n",
    "    b = np.matrix([0,2,-1,1]).T\n",
    "    return Q"
   ]
  },
  {
   "cell_type": "code",
   "execution_count": 18,
   "metadata": {},
   "outputs": [],
   "source": [
    "x_07 = np.matrix([0,0,0,0]).T"
   ]
  },
  {
   "cell_type": "code",
   "execution_count": 29,
   "metadata": {},
   "outputs": [],
   "source": [
    "def CG7(x_0):\n",
    "    iters = 0\n",
    "    u_0 = -grad_f7(x_0)\n",
    "    #print('initial grad = ',grad)\n",
    "    grad = grad_f7(x_0)\n",
    "    print('initial grad = ',grad)\n",
    "    Q = np.matrix([[1,2,-1,1],[2,5,0,2],[-1,0,6,0],[1,2,0,3]])\n",
    "    compare = u_0 - np.matrix([0,0,0,0]).T\n",
    "    while(not (float(grad[0]==0.0) and float(grad[1]==0.0) and float(grad[2]==0.0) and float(grad[3]==0.0))):\n",
    "        iters+=1\n",
    "        beta_0 = float((-np.dot(u_0.T,grad_f7(x_0)))/(np.dot(u_0.T,np.matmul(Q,u_0))))\n",
    "        x_1 = x_0 + beta_0*u_0\n",
    "        gamma_0 = float(np.dot(grad_f7(x_1).T,np.matmul(Q,u_0))/np.dot(u_0.T,np.matmul(Q,u_0)))\n",
    "        u_1 = -grad_f7(x_1) + gamma_0*u_0\n",
    "        x_0 = x_1\n",
    "        u_0 = u_1\n",
    "        compare = u_0 - np.matrix([0,0,0,0]).T\n",
    "        print('iterations = ',iters,'new x = ',x_0)\n",
    "        grad = grad_f7(x_0)\n",
    "        print('new grad = ',grad)"
   ]
  },
  {
   "cell_type": "code",
   "execution_count": 30,
   "metadata": {},
   "outputs": [
    {
     "name": "stdout",
     "output_type": "stream",
     "text": [
      "initial grad =  [[ 0]\n",
      " [-2]\n",
      " [ 1]\n",
      " [-1]]\n",
      "iterations =  1 new x =  [[ 0.        ]\n",
      " [ 0.32432432]\n",
      " [-0.16216216]\n",
      " [ 0.16216216]]\n",
      "new grad =  [[ 0.97297297]\n",
      " [-0.05405405]\n",
      " [ 0.02702703]\n",
      " [ 0.13513514]]\n",
      "iterations =  2 new x =  [[-34.89473684]\n",
      " [ 13.84210526]\n",
      " [ -6.92105263]\n",
      " [  1.10526316]]\n",
      "new grad =  [[ 0.81578947]\n",
      " [-0.36842105]\n",
      " [-5.63157895]\n",
      " [-4.89473684]]\n",
      "iterations =  3 new x =  [[-53.05970149]\n",
      " [ 20.89552239]\n",
      " [ -8.6119403 ]\n",
      " [  3.13432836]]\n",
      "new grad =  [[ 0.47761194]\n",
      " [ 2.62686567]\n",
      " [ 2.3880597 ]\n",
      " [-2.86567164]]\n",
      "iterations =  4 new x =  [[-65.]\n",
      " [ 24.]\n",
      " [-11.]\n",
      " [  6.]]\n",
      "new grad =  [[ 7.10542736e-15]\n",
      " [ 7.10542736e-15]\n",
      " [-1.42108547e-14]\n",
      " [ 1.77635684e-14]]\n",
      "iterations =  5 new x =  [[-65.]\n",
      " [ 24.]\n",
      " [-11.]\n",
      " [  6.]]\n",
      "new grad =  [[-7.10542736e-15]\n",
      " [-2.13162821e-14]\n",
      " [ 0.00000000e+00]\n",
      " [ 3.55271368e-15]]\n",
      "iterations =  6 new x =  [[-65.]\n",
      " [ 24.]\n",
      " [-11.]\n",
      " [  6.]]\n",
      "new grad =  [[-7.10542736e-15]\n",
      " [-1.06581410e-14]\n",
      " [ 1.42108547e-14]\n",
      " [ 0.00000000e+00]]\n",
      "iterations =  7 new x =  [[-65.]\n",
      " [ 24.]\n",
      " [-11.]\n",
      " [  6.]]\n",
      "new grad =  [[0.00000000e+00]\n",
      " [3.55271368e-15]\n",
      " [0.00000000e+00]\n",
      " [7.10542736e-15]]\n",
      "iterations =  8 new x =  [[-65.]\n",
      " [ 24.]\n",
      " [-11.]\n",
      " [  6.]]\n",
      "new grad =  [[0.]\n",
      " [0.]\n",
      " [0.]\n",
      " [0.]]\n"
     ]
    }
   ],
   "source": [
    "CG7(x_07)"
   ]
  },
  {
   "cell_type": "code",
   "execution_count": null,
   "metadata": {},
   "outputs": [],
   "source": []
  }
 ],
 "metadata": {
  "kernelspec": {
   "display_name": "Python 3",
   "language": "python",
   "name": "python3"
  },
  "language_info": {
   "codemirror_mode": {
    "name": "ipython",
    "version": 3
   },
   "file_extension": ".py",
   "mimetype": "text/x-python",
   "name": "python",
   "nbconvert_exporter": "python",
   "pygments_lexer": "ipython3",
   "version": "3.7.6"
  }
 },
 "nbformat": 4,
 "nbformat_minor": 4
}
