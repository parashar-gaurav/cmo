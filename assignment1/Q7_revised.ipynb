{
 "cells": [
  {
   "cell_type": "code",
   "execution_count": 30,
   "metadata": {},
   "outputs": [],
   "source": [
    "import numpy as np\n",
    "import matplotlib.pyplot as plt"
   ]
  },
  {
   "cell_type": "markdown",
   "metadata": {},
   "source": [
    "#### Input : interval = [a,b], tolerance = tol, max iterations = N_max\n",
    "##### $Initialize\\ x_{left} = a, x_{right}=b$\n",
    "##### iters = 0\n",
    "while(True):\n",
    "    $x_{mid} = \\frac{x_l+x_r}{2}\\\\\n",
    "    if f(mid) = 0 or \\frac{x_r-x_l}{2}\\leq tol or iters = N_{max}:\\\\\n",
    "        Return x_mid,iters\\\\$\n",
    "    $if sign(f(mid))*sign(f(x_l))<0:\\\\\n",
    "        x_r = x_{mid}\\\\$\n",
    "    $if sign(f(mid))*sign(f(x_l))>0:\\\\\n",
    "        x_l = x_{mid}\\\\\n",
    "        \n",
    "    iters+=1$\n"
   ]
  },
  {
   "cell_type": "code",
   "execution_count": 31,
   "metadata": {},
   "outputs": [],
   "source": [
    "def f_x(x):\n",
    "    return x**4 - 14*(x**3) + 60*(x**2) - 70*x\n",
    "\n",
    "def f_diff_x(x):\n",
    "    return 4*(x**3) - 42*(x**2) + 120*x - 70"
   ]
  },
  {
   "cell_type": "code",
   "execution_count": 32,
   "metadata": {},
   "outputs": [
    {
     "data": {
      "text/plain": [
       "<matplotlib.lines.Line2D at 0x7f9cf49faad0>"
      ]
     },
     "execution_count": 32,
     "metadata": {},
     "output_type": "execute_result"
    },
    {
     "data": {
      "image/png": "[encoded data removed]",
      "text/plain": [
       "<Figure size 432x288 with 1 Axes>"
      ]
     },
     "metadata": {
      "needs_background": "light"
     },
     "output_type": "display_data"
    }
   ],
   "source": [
    "x = 0\n",
    "x_list = []\n",
    "y_list = []\n",
    "y_diff_val = []\n",
    "while x<=7:\n",
    "    x_list.append(x)\n",
    "    val = f_x(x)\n",
    "    y_list.append(val)\n",
    "    val1 = f_diff_x(x)\n",
    "    y_diff_val.append(val1)\n",
    "    x+=0.001\n",
    "plt.plot(x_list,y_list)\n",
    "plt.plot(x_list,y_diff_val)\n",
    "plt.axhline(xmin=0,xmax=7)"
   ]
  },
  {
   "cell_type": "markdown",
   "metadata": {},
   "source": [
    "## Bisection method\n"
   ]
  },
  {
   "cell_type": "code",
   "execution_count": 33,
   "metadata": {},
   "outputs": [],
   "source": [
    "def bisection_method(a,b,tol,max_iter):\n",
    "    x_l = a\n",
    "    x_r = b\n",
    "    n_max = max_iter\n",
    "    iters = 0\n",
    "    while(True):\n",
    "        x_m = (x_l+x_r)/2\n",
    "        if ((f_x(x_m)==0) or ((x_r-x_l)/2 <= tol) or (iters == n_max)):\n",
    "            return iters,x_m\n",
    "        if np.sign(f_x(x_m))*np.sign(f_x(x_l)) < 0:\n",
    "            x_r = x_m\n",
    "        if np.sign(f_x(x_m))*np.sign(f_x(x_l)) > 0:\n",
    "            x_l = x_m\n",
    "        iters+=1"
   ]
  },
  {
   "cell_type": "code",
   "execution_count": 38,
   "metadata": {},
   "outputs": [],
   "source": [
    "def bisection_method1(a,b,tol):\n",
    "    x_l = a\n",
    "    x_r = b\n",
    "    #n_max = max_iter\n",
    "    iters = 0\n",
    "    while(True):\n",
    "        x_m = (x_l+x_r)/2\n",
    "        iters+=1\n",
    "        if ((f_diff_x(x_m)==0) or ((x_r-x_l)/2 <= tol)):\n",
    "            return iters,x_m\n",
    "        if np.sign(f_diff_x(x_m))*np.sign(f_diff_x(x_l)) < 0:\n",
    "            x_r = x_m\n",
    "        if np.sign(f_diff_x(x_m))*np.sign(f_diff_x(x_l)) > 0:\n",
    "            x_l = x_m\n",
    "        #iters+=1"
   ]
  },
  {
   "cell_type": "code",
   "execution_count": 39,
   "metadata": {},
   "outputs": [
    {
     "name": "stdout",
     "output_type": "stream",
     "text": [
      "Part b. iterations =  8 mid value =  0.7734375\n",
      "Part b. iterations =  15 mid value =  0.78094482421875\n",
      "Part b. iterations =  12 mid value =  0.781494140625\n"
     ]
    }
   ],
   "source": [
    "#part b,c,d\n",
    "i,m = bisection_method1(0,2,0.01)\n",
    "print('Part b. iterations = ',i,'mid value = ', m)\n",
    "i,m = bisection_method1(0,2,0.0001)\n",
    "print('Part b. iterations = ',i,'mid value = ', m)\n",
    "i,m = bisection_method1(0,3,0.001)\n",
    "print('Part b. iterations = ',i,'mid value = ', m)\n"
   ]
  },
  {
   "cell_type": "code",
   "execution_count": 44,
   "metadata": {},
   "outputs": [],
   "source": [
    "def bisection_method2(a,b,max_iter):\n",
    "    x_l = a\n",
    "    x_r = b\n",
    "    n_max = max_iter\n",
    "    iters = 0\n",
    "    while(True):\n",
    "        iters+=1\n",
    "        x_m = (x_l+x_r)/2\n",
    "        if ((f_diff_x(x_m)==0) or (iters == n_max)):\n",
    "            return iters,x_m\n",
    "        if np.sign(f_diff_x(x_m))*np.sign(f_diff_x(x_l)) < 0:\n",
    "            x_r = x_m\n",
    "        if np.sign(f_diff_x(x_m))*np.sign(f_diff_x(x_l)) > 0:\n",
    "            x_l = x_m\n",
    "        #iters+=1"
   ]
  },
  {
   "cell_type": "code",
   "execution_count": 45,
   "metadata": {},
   "outputs": [
    {
     "name": "stdout",
     "output_type": "stream",
     "text": [
      "part e. minimizer is x =  0.779296875\n",
      "part f. minimizer is x =  0.7808856964111328\n"
     ]
    }
   ],
   "source": [
    "#part e,f\n",
    "i,m = bisection_method2(0,2,10)\n",
    "print('part e. minimizer is x = ',m)\n",
    "i,m = bisection_method2(0,2,20)\n",
    "print('part f. minimizer is x = ',m)\n"
   ]
  },
  {
   "cell_type": "code",
   "execution_count": null,
   "metadata": {},
   "outputs": [],
   "source": []
  }
 ],
 "metadata": {
  "kernelspec": {
   "display_name": "Python 3",
   "language": "python",
   "name": "python3"
  },
  "language_info": {
   "codemirror_mode": {
    "name": "ipython",
    "version": 3
   },
   "file_extension": ".py",
   "mimetype": "text/x-python",
   "name": "python",
   "nbconvert_exporter": "python",
   "pygments_lexer": "ipython3",
   "version": "3.7.6"
  }
 },
 "nbformat": 4,
 "nbformat_minor": 4
}
