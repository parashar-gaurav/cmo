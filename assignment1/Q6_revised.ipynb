{
 "cells": [
  {
   "cell_type": "code",
   "execution_count": 15,
   "metadata": {},
   "outputs": [],
   "source": [
    "import numpy as np\n",
    "import matplotlib.pyplot as plt"
   ]
  },
  {
   "cell_type": "code",
   "execution_count": 87,
   "metadata": {},
   "outputs": [],
   "source": [
    "def fact(n):\n",
    "    i = 2\n",
    "    res = 1\n",
    "    while i<=n:\n",
    "        res = res*i\n",
    "        i +=1\n",
    "    return res\n",
    "    \n",
    "def converge(k):\n",
    "    x1 = 1 + 1/k\n",
    "    x2 = 1 + (0.5)**(2**k)\n",
    "    x3 = 1 + 1/fact(k)\n",
    "    x4 = 2\n",
    "    iters = 0\n",
    "    while iters!=k:\n",
    "        iters+=1\n",
    "        x4 = x4 - 0.5**iters\n",
    "    return x1,x2,x3,x4\n",
    "\n",
    "def converge1(k):\n",
    "    x1 = 1 + 1/k\n",
    "    #x2 = 1 + (0.5)**(2**k)\n",
    "    #x3 = 1 + 1/fact(k)\n",
    "    #x4 = 2\n",
    "    #iters = 0\n",
    "    #while iters!=k:\n",
    "    #    iters+=1\n",
    "    #    x4 = x4 - 0.5**iters\n",
    "    return x1"
   ]
  },
  {
   "cell_type": "code",
   "execution_count": 22,
   "metadata": {},
   "outputs": [
    {
     "data": {
      "text/plain": [
       "[<matplotlib.lines.Line2D at 0x7fd7eca5f4d0>]"
      ]
     },
     "execution_count": 22,
     "metadata": {},
     "output_type": "execute_result"
    },
    {
     "data": {
      "image/png": "[encoded data removed]",
      "text/plain": [
       "<Figure size 432x288 with 1 Axes>"
      ]
     },
     "metadata": {
      "needs_background": "light"
     },
     "output_type": "display_data"
    }
   ],
   "source": [
    "i = 1\n",
    "list1 = []\n",
    "list2 = []\n",
    "list3 = []\n",
    "list4 = []\n",
    "x = [j for j in range(1,11)]\n",
    "while i <= 10:\n",
    "    a,b,c,d = converge(i)\n",
    "    list1.append(a)\n",
    "    list2.append(b)\n",
    "    list3.append(c)\n",
    "    list4.append(d)\n",
    "    #print(\"iteration = \",i,\"x1 = \",a,\"x2 = \",b,\"x3 = \",c,\"x4 = \",d)\n",
    "    i+=1\n",
    "plt.plot(x,list1,'r-')\n",
    "plt.plot(x,list2,'g-')\n",
    "plt.plot(x,list3,'b-')\n",
    "plt.plot(x,list4,'b--')"
   ]
  },
  {
   "cell_type": "markdown",
   "metadata": {},
   "source": [
    "### part c\n",
    "\n",
    "$\\lim_{n\\rightarrow \\infty}\\frac{|x_{k+1}-x^*|}{|x_k-x^*|^p}=\\mu$\n",
    "\n",
    "p is the order of convergence.\n",
    "\n",
    "larger p and smaller $\\mu$, the more quickly the sequence converges\n",
    "\n",
    "- If p = 1\n",
    "    - If $\\mu$ = 1: sublinear\n",
    "    - If 0 < $\\mu$ < 1 : linear\n",
    "    - If $\\mu = 0$ : superlinear\n",
    "- If p = 2 and $\\mu > 0$ : quadratic"
   ]
  },
  {
   "cell_type": "code",
   "execution_count": 30,
   "metadata": {},
   "outputs": [
    {
     "data": {
      "text/plain": [
       "[<matplotlib.lines.Line2D at 0x7fd7ec7f72d0>]"
      ]
     },
     "execution_count": 30,
     "metadata": {},
     "output_type": "execute_result"
    },
    {
     "data": {
      "image/png": "[encoded data removed]",
      "text/plain": [
       "<Figure size 432x288 with 1 Axes>"
      ]
     },
     "metadata": {
      "needs_background": "light"
     },
     "output_type": "display_data"
    }
   ],
   "source": [
    "#checking for algorithm 1\n",
    "\n",
    "x_opt = 1\n",
    "mu = []\n",
    "x_0 = 2\n",
    "x_1 = 0\n",
    "p1 = 1\n",
    "p2 = 2\n",
    "for i in range(2,1000):\n",
    "    x_1,_,_,_ = converge(i)\n",
    "    res = np.abs(x_1 - x_opt)/(np.abs(x_0-x_opt)**p1)\n",
    "    x_0 = x_1\n",
    "    mu.append(res)\n",
    "xaxis = [j for j in range(2,1000)]\n",
    "plt.plot(xaxis,mu)"
   ]
  },
  {
   "cell_type": "code",
   "execution_count": 78,
   "metadata": {},
   "outputs": [
    {
     "data": {
      "text/plain": [
       "[<matplotlib.lines.Line2D at 0x7fd7eb4fae10>]"
      ]
     },
     "execution_count": 78,
     "metadata": {},
     "output_type": "execute_result"
    },
    {
     "data": {
      "image/png": "[encoded data removed]",
      "text/plain": [
       "<Figure size 432x288 with 1 Axes>"
      ]
     },
     "metadata": {
      "needs_background": "light"
     },
     "output_type": "display_data"
    }
   ],
   "source": [
    "#checking for algorithm 2\n",
    "\n",
    "x_opt = 1\n",
    "mu = []\n",
    "x_0 = 1.25\n",
    "x_1 = 0\n",
    "p1 = 1\n",
    "p2 = 2\n",
    "for i in range(2,5):\n",
    "    _,x_1,_,_ = converge(i)\n",
    "    res = np.abs(x_1 - x_opt)/(np.abs(x_0-x_opt)**p2)\n",
    "    x_0 = x_1\n",
    "    mu.append(res)\n",
    "xaxis = [j for j in range(2,5)]\n",
    "plt.plot(xaxis,mu,'rx')"
   ]
  },
  {
   "cell_type": "code",
   "execution_count": 61,
   "metadata": {},
   "outputs": [
    {
     "data": {
      "text/plain": [
       "[<matplotlib.lines.Line2D at 0x7fd7ebc45bd0>]"
      ]
     },
     "execution_count": 61,
     "metadata": {},
     "output_type": "execute_result"
    },
    {
     "data": {
      "image/png": "[encoded data removed]",
      "text/plain": [
       "<Figure size 432x288 with 1 Axes>"
      ]
     },
     "metadata": {
      "needs_background": "light"
     },
     "output_type": "display_data"
    }
   ],
   "source": [
    "#checking for algorithm 3\n",
    "\n",
    "x_opt = 1\n",
    "mu = []\n",
    "x_0 = 2\n",
    "x_1 = 0\n",
    "p1 = 1\n",
    "p2 = 2\n",
    "for i in range(2,20):\n",
    "    _,_,x_1,_ = converge(i)\n",
    "    res = np.abs(x_1 - x_opt)/(np.abs(x_0-x_opt)**p1)\n",
    "    x_0 = x_1\n",
    "    mu.append(res)\n",
    "xaxis = [j for j in range(2,20)]\n",
    "plt.plot(xaxis,mu)"
   ]
  },
  {
   "cell_type": "code",
   "execution_count": 72,
   "metadata": {},
   "outputs": [
    {
     "data": {
      "text/plain": [
       "[<matplotlib.lines.Line2D at 0x7fd7eb784a90>]"
      ]
     },
     "execution_count": 72,
     "metadata": {},
     "output_type": "execute_result"
    },
    {
     "data": {
      "image/png": "[encoded data removed]",
      "text/plain": [
       "<Figure size 432x288 with 1 Axes>"
      ]
     },
     "metadata": {
      "needs_background": "light"
     },
     "output_type": "display_data"
    }
   ],
   "source": [
    "#checking for algorithm 4\n",
    "\n",
    "x_opt = 1\n",
    "mu = []\n",
    "x_0 = 2\n",
    "x_1 = 0\n",
    "p1 = 1\n",
    "p2 = 2\n",
    "for i in range(2,10):\n",
    "    _,_,_,x_1 = converge(i)\n",
    "    res = np.abs(x_1 - x_opt)/(np.abs(x_0-x_opt)**p1)\n",
    "    x_0 = x_1\n",
    "    mu.append(res)\n",
    "xaxis = [j for j in range(2,10)]\n",
    "plt.plot(xaxis,mu)"
   ]
  },
  {
   "cell_type": "markdown",
   "metadata": {},
   "source": [
    "## part d to s\n",
    "\n",
    "$x^* = 1.0$\n",
    "<hr>\n",
    "minimum number of iterations required to reach z s.t. $z\\leq x^* + \\epsilon$"
   ]
  },
  {
   "cell_type": "code",
   "execution_count": 79,
   "metadata": {},
   "outputs": [
    {
     "name": "stdout",
     "output_type": "stream",
     "text": [
      "Number of iterations required =  10\n"
     ]
    }
   ],
   "source": [
    "#Part d : algo 1, eps = 0.1\n",
    "x_opt = 1.0\n",
    "iters = 1\n",
    "x_curr = 2\n",
    "eps = 0.1\n",
    "while x_curr > x_opt+eps:\n",
    "    iters+=1\n",
    "    x_curr,_,_,_ = converge(iters)\n",
    "print(\"Number of iterations required = \",iters)"
   ]
  },
  {
   "cell_type": "code",
   "execution_count": 81,
   "metadata": {},
   "outputs": [
    {
     "name": "stdout",
     "output_type": "stream",
     "text": [
      "Number of iterations required =  100\n"
     ]
    }
   ],
   "source": [
    "#Part e : algo 1, eps = 0.01\n",
    "x_opt = 1.0\n",
    "iters = 1\n",
    "x_curr = 2\n",
    "eps = 0.01\n",
    "while x_curr > x_opt+eps:\n",
    "    iters+=1\n",
    "    x_curr,_,_,_ = converge(iters)\n",
    "print(\"Number of iterations required = \",iters)"
   ]
  },
  {
   "cell_type": "code",
   "execution_count": 82,
   "metadata": {},
   "outputs": [
    {
     "name": "stdout",
     "output_type": "stream",
     "text": [
      "Number of iterations required =  1000\n"
     ]
    }
   ],
   "source": [
    "#Part f : algo 1, eps = 0.1\n",
    "x_opt = 1.0\n",
    "iters = 1\n",
    "x_curr = 2\n",
    "eps = 0.001\n",
    "while x_curr > x_opt+eps:\n",
    "    iters+=1\n",
    "    x_curr,_,_,_ = converge(iters)\n",
    "print(\"Number of iterations required = \",iters)"
   ]
  },
  {
   "cell_type": "code",
   "execution_count": 88,
   "metadata": {},
   "outputs": [
    {
     "name": "stdout",
     "output_type": "stream",
     "text": [
      "Number of iterations required =  100000\n"
     ]
    }
   ],
   "source": [
    "#Part g : algo 1, eps = 0.1\n",
    "x_opt = 1.0\n",
    "iters = 1\n",
    "x_curr = 2.0\n",
    "eps = 0.00001\n",
    "while x_curr > x_opt+eps:\n",
    "    iters+=1\n",
    "    x_curr = converge1(iters)\n",
    "print(\"Number of iterations required = \",iters)"
   ]
  },
  {
   "cell_type": "code",
   "execution_count": 90,
   "metadata": {},
   "outputs": [],
   "source": [
    "\n",
    "def converge2(k):\n",
    "    #x1 = 1 + 1/k\n",
    "    x2 = 1 + (0.5)**(2**k)\n",
    "    #x3 = 1 + 1/fact(k)\n",
    "    #x4 = 2\n",
    "    #iters = 0\n",
    "    #while iters!=k:\n",
    "    #    iters+=1\n",
    "    #    x4 = x4 - 0.5**iters\n",
    "    return x2"
   ]
  },
  {
   "cell_type": "code",
   "execution_count": 95,
   "metadata": {},
   "outputs": [
    {
     "name": "stdout",
     "output_type": "stream",
     "text": [
      "Number of iterations required =  2\n"
     ]
    }
   ],
   "source": [
    "#Part h : algo 2, eps = 0.1\n",
    "x_opt = 1.0\n",
    "iters = 1\n",
    "x_curr = 1.25\n",
    "eps = 0.1\n",
    "while x_curr > x_opt+eps:\n",
    "    iters+=1\n",
    "    x_curr = converge2(iters)\n",
    "print(\"Number of iterations required = \",iters)"
   ]
  },
  {
   "cell_type": "code",
   "execution_count": 96,
   "metadata": {},
   "outputs": [
    {
     "name": "stdout",
     "output_type": "stream",
     "text": [
      "Number of iterations required =  3\n"
     ]
    }
   ],
   "source": [
    "#Part i : algo 2, eps = 0.01\n",
    "x_opt = 1.0\n",
    "iters = 1\n",
    "x_curr = 1.25\n",
    "eps = 0.01\n",
    "while x_curr > x_opt+eps:\n",
    "    iters+=1\n",
    "    x_curr = converge2(iters)\n",
    "print(\"Number of iterations required = \",iters)"
   ]
  },
  {
   "cell_type": "code",
   "execution_count": 97,
   "metadata": {},
   "outputs": [
    {
     "name": "stdout",
     "output_type": "stream",
     "text": [
      "Number of iterations required =  4\n"
     ]
    }
   ],
   "source": [
    "#Part j : algo 2, eps = 0.001\n",
    "x_opt = 1.0\n",
    "iters = 1\n",
    "x_curr = 1.25\n",
    "eps = 0.001\n",
    "while x_curr > x_opt+eps:\n",
    "    iters+=1\n",
    "    x_curr = converge2(iters)\n",
    "print(\"Number of iterations required = \",iters)"
   ]
  },
  {
   "cell_type": "code",
   "execution_count": 98,
   "metadata": {},
   "outputs": [
    {
     "name": "stdout",
     "output_type": "stream",
     "text": [
      "Number of iterations required =  5\n"
     ]
    }
   ],
   "source": [
    "#Part k : algo 2, eps = 0.001\n",
    "x_opt = 1.0\n",
    "iters = 1\n",
    "x_curr = 1.25\n",
    "eps = 0.00001\n",
    "while x_curr > x_opt+eps:\n",
    "    iters+=1\n",
    "    x_curr = converge2(iters)\n",
    "print(\"Number of iterations required = \",iters)"
   ]
  },
  {
   "cell_type": "markdown",
   "metadata": {},
   "source": [
    "### Part l,m,n,o\n"
   ]
  },
  {
   "cell_type": "code",
   "execution_count": 99,
   "metadata": {},
   "outputs": [],
   "source": [
    "def converge3(k):\n",
    "    #x1 = 1 + 1/k\n",
    "    #x2 = 1 + (0.5)**(2**k)\n",
    "    x3 = 1 + 1/fact(k)\n",
    "    #x4 = 2\n",
    "    #iters = 0\n",
    "    #while iters!=k:\n",
    "    #    iters+=1\n",
    "    #    x4 = x4 - 0.5**iters\n",
    "    return x3"
   ]
  },
  {
   "cell_type": "code",
   "execution_count": 100,
   "metadata": {},
   "outputs": [
    {
     "name": "stdout",
     "output_type": "stream",
     "text": [
      "Number of iterations required =  4\n"
     ]
    }
   ],
   "source": [
    "#Part l : algo 3, eps = 0.1\n",
    "x_opt = 1.0\n",
    "iters = 1\n",
    "x_curr = 2.0\n",
    "eps = 0.1\n",
    "while x_curr > x_opt+eps:\n",
    "    iters+=1\n",
    "    x_curr = converge3(iters)\n",
    "print(\"Number of iterations required = \",iters)"
   ]
  },
  {
   "cell_type": "code",
   "execution_count": 101,
   "metadata": {},
   "outputs": [
    {
     "name": "stdout",
     "output_type": "stream",
     "text": [
      "Number of iterations required =  5\n"
     ]
    }
   ],
   "source": [
    "#Part m : algo 3, eps = 0.01\n",
    "x_opt = 1.0\n",
    "iters = 1\n",
    "x_curr = 2.0\n",
    "eps = 0.01\n",
    "while x_curr > x_opt+eps:\n",
    "    iters+=1\n",
    "    x_curr = converge3(iters)\n",
    "print(\"Number of iterations required = \",iters)"
   ]
  },
  {
   "cell_type": "code",
   "execution_count": 102,
   "metadata": {},
   "outputs": [
    {
     "name": "stdout",
     "output_type": "stream",
     "text": [
      "Number of iterations required =  7\n"
     ]
    }
   ],
   "source": [
    "#Part n : algo 3, eps = 0.001\n",
    "x_opt = 1.0\n",
    "iters = 1\n",
    "x_curr = 2.0\n",
    "eps = 0.001\n",
    "while x_curr > x_opt+eps:\n",
    "    iters+=1\n",
    "    x_curr = converge3(iters)\n",
    "print(\"Number of iterations required = \",iters)"
   ]
  },
  {
   "cell_type": "code",
   "execution_count": 103,
   "metadata": {},
   "outputs": [
    {
     "name": "stdout",
     "output_type": "stream",
     "text": [
      "Number of iterations required =  9\n"
     ]
    }
   ],
   "source": [
    "#Part o : algo 3, eps = 0.00001\n",
    "x_opt = 1.0\n",
    "iters = 1\n",
    "x_curr = 2.0\n",
    "eps = 0.00001\n",
    "while x_curr > x_opt+eps:\n",
    "    iters+=1\n",
    "    x_curr = converge3(iters)\n",
    "print(\"Number of iterations required = \",iters)"
   ]
  },
  {
   "cell_type": "markdown",
   "metadata": {},
   "source": [
    "### part p,q,r,s"
   ]
  },
  {
   "cell_type": "code",
   "execution_count": 104,
   "metadata": {},
   "outputs": [],
   "source": [
    "def converge4(k):\n",
    "    #x1 = 1 + 1/k\n",
    "    #x2 = 1 + (0.5)**(2**k)\n",
    "    #x3 = 1 + 1/fact(k)\n",
    "    x4 = 2\n",
    "    iters = 0\n",
    "    while iters!=k:\n",
    "        iters+=1\n",
    "        x4 = x4 - 0.5**iters\n",
    "    return x4"
   ]
  },
  {
   "cell_type": "code",
   "execution_count": 105,
   "metadata": {},
   "outputs": [
    {
     "name": "stdout",
     "output_type": "stream",
     "text": [
      "Number of iterations required =  4\n"
     ]
    }
   ],
   "source": [
    "#Part p : algo 4, eps = 0.1\n",
    "x_opt = 1.0\n",
    "iters = 0\n",
    "x_curr = 2.0\n",
    "eps = 0.1\n",
    "while x_curr > x_opt+eps:\n",
    "    iters+=1\n",
    "    x_curr = converge4(iters)\n",
    "print(\"Number of iterations required = \",iters)"
   ]
  },
  {
   "cell_type": "code",
   "execution_count": 106,
   "metadata": {},
   "outputs": [
    {
     "name": "stdout",
     "output_type": "stream",
     "text": [
      "Number of iterations required =  7\n"
     ]
    }
   ],
   "source": [
    "#Part q : algo 4, eps = 0.01\n",
    "x_opt = 1.0\n",
    "iters = 0\n",
    "x_curr = 2.0\n",
    "eps = 0.01\n",
    "while x_curr > x_opt+eps:\n",
    "    iters+=1\n",
    "    x_curr = converge4(iters)\n",
    "print(\"Number of iterations required = \",iters)"
   ]
  },
  {
   "cell_type": "code",
   "execution_count": 107,
   "metadata": {},
   "outputs": [
    {
     "name": "stdout",
     "output_type": "stream",
     "text": [
      "Number of iterations required =  10\n"
     ]
    }
   ],
   "source": [
    "#Part r : algo 4, eps = 0.001\n",
    "x_opt = 1.0\n",
    "iters = 0\n",
    "x_curr = 2.0\n",
    "eps = 0.001\n",
    "while x_curr > x_opt+eps:\n",
    "    iters+=1\n",
    "    x_curr = converge4(iters)\n",
    "print(\"Number of iterations required = \",iters)"
   ]
  },
  {
   "cell_type": "code",
   "execution_count": 108,
   "metadata": {},
   "outputs": [
    {
     "name": "stdout",
     "output_type": "stream",
     "text": [
      "Number of iterations required =  17\n"
     ]
    }
   ],
   "source": [
    "#Part s : algo 4, eps = 0.00001\n",
    "x_opt = 1.0\n",
    "iters = 0\n",
    "x_curr = 2.0\n",
    "eps = 0.00001\n",
    "while x_curr > x_opt+eps:\n",
    "    iters+=1\n",
    "    x_curr = converge4(iters)\n",
    "print(\"Number of iterations required = \",iters)"
   ]
  },
  {
   "cell_type": "code",
   "execution_count": null,
   "metadata": {},
   "outputs": [],
   "source": []
  }
 ],
 "metadata": {
  "kernelspec": {
   "display_name": "Python 3",
   "language": "python",
   "name": "python3"
  },
  "language_info": {
   "codemirror_mode": {
    "name": "ipython",
    "version": 3
   },
   "file_extension": ".py",
   "mimetype": "text/x-python",
   "name": "python",
   "nbconvert_exporter": "python",
   "pygments_lexer": "ipython3",
   "version": "3.7.6"
  }
 },
 "nbformat": 4,
 "nbformat_minor": 4
}
