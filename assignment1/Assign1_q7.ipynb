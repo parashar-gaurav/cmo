{
 "cells": [
  {
   "cell_type": "code",
   "execution_count": 1,
   "metadata": {},
   "outputs": [],
   "source": [
    "import numpy as np\n",
    "import matplotlib.pyplot as plt\n",
    "import matplotlib.axes as ax\n",
    "%matplotlib inline"
   ]
  },
  {
   "cell_type": "code",
   "execution_count": 2,
   "metadata": {},
   "outputs": [],
   "source": [
    "def f_x(x):\n",
    "    return (x**4) - 14*(x**3) + 60*(x**2) - 70*x\n",
    "\n",
    "def diff_f_x(x):\n",
    "    return 4*(x**3) - 42*(x**2) + 120*x - 70"
   ]
  },
  {
   "cell_type": "code",
   "execution_count": 3,
   "metadata": {},
   "outputs": [],
   "source": [
    "x_val = []\n",
    "f_x_val = []\n",
    "x_init = 0\n",
    "diff_f_val = []\n",
    "while x_init <= 7:\n",
    "    x_val.append(x_init)\n",
    "    y_val = f_x(x_init)\n",
    "    diff_y = diff_f_x(x_init)\n",
    "    f_x_val.append(y_val)\n",
    "    diff_f_val.append(diff_y)\n",
    "    x_init += 0.001\n"
   ]
  },
  {
   "cell_type": "code",
   "execution_count": 4,
   "metadata": {},
   "outputs": [
    {
     "data": {
      "text/plain": [
       "<matplotlib.lines.Line2D at 0x7f49aa2c7710>"
      ]
     },
     "execution_count": 4,
     "metadata": {},
     "output_type": "execute_result"
    },
    {
     "data": {
      "image/png": "[encoded data removed]",
      "text/plain": [
       "<Figure size 432x288 with 1 Axes>"
      ]
     },
     "metadata": {
      "needs_background": "light"
     },
     "output_type": "display_data"
    }
   ],
   "source": [
    "plt.plot(x_val,f_x_val,'b-',label='function')\n",
    "plt.plot(x_val,diff_f_val,'r-',label='1st diff')\n",
    "plt.axhline(y=0,xmin=0,xmax=7)\n"
   ]
  },
  {
   "cell_type": "markdown",
   "metadata": {},
   "source": [
    "#### Bisection Method : \n",
    "\n",
    "interval = $[a,b]$<br>\n",
    "$x_{left} = a; $<br>\n",
    "$x_{right} = b; $<br>\n",
    "xmid = $\\frac{a+b}{2}$<br>\n",
    "$tolerance = tol$<br>\n",
    "$max iterations = N_{max}$<br>\n",
    "iter = 0\n",
    "\n",
    "while $not(f(x_{mid}==0) or \\frac{x_{right}-x_{left}}{2}\\leq tol or iter=N_{max}):$<br>\n",
    "    iter++;<br>\n",
    "    $if\\ f(x_{mid})*f(x_{left})<0 : x_{right} = x_{mid}$<br>\n",
    "    $else if f(x_{mid})*f(x_{left}) > 0 : x_{left} = x_{mid}$<br>\n",
    "    $x_{mid} = \\frac{x_{left}+x_{right}}{2}$"
   ]
  },
  {
   "cell_type": "code",
   "execution_count": 5,
   "metadata": {},
   "outputs": [],
   "source": [
    "def bisection_method(interval, tol):\n",
    "    x_l = interval[0]\n",
    "    x_r = interval[1]\n",
    "    iterations = 0\n",
    "    while True:\n",
    "        iterations = iterations+1\n",
    "        x_m = (x_l + x_r)/2\n",
    "        if(diff_f_x(x_m)==0 or (x_r - x_l)<=2*tol):\n",
    "            return x_m,iterations\n",
    "        if np.sign(diff_f_x(x_m))*np.sign(diff_f_x(x_l)) < 0:\n",
    "            x_r = x_m\n",
    "        elif np.sign(diff_f_x(x_m))*np.sign(diff_f_x(x_l)) > 0:\n",
    "            x_l = x_m\n",
    "        "
   ]
  },
  {
   "cell_type": "code",
   "execution_count": 6,
   "metadata": {},
   "outputs": [],
   "source": [
    "#1st question : interval = [0,2] , tol = 0.01\n",
    "root1,it1 = bisection_method([0,2],0.01)\n",
    "#2nd : iterval = [0,2], tol = 0.0001\n",
    "root2, it2 = bisection_method([0,2],0.0001)\n",
    "#3rd : interval  = [0,3], tol = 0.001\n",
    "root3, it3 = bisection_method([0,3],0.001)"
   ]
  },
  {
   "cell_type": "code",
   "execution_count": 7,
   "metadata": {},
   "outputs": [
    {
     "name": "stdout",
     "output_type": "stream",
     "text": [
      "root =  0.7734375 iterations = 8\n",
      "root =  0.78094482421875 iterations = 15\n",
      "root =  0.781494140625 iterations = 12\n"
     ]
    }
   ],
   "source": [
    "print('root = ', root1, 'iterations =',it1)\n",
    "print('root = ', root2, 'iterations =',it2)\n",
    "print('root = ', root3, 'iterations =',it3)"
   ]
  },
  {
   "cell_type": "code",
   "execution_count": 8,
   "metadata": {},
   "outputs": [],
   "source": [
    "def bisection_method2(interval, iters):\n",
    "    x_l = interval[0]\n",
    "    x_r = interval[1]\n",
    "    iterations = 0\n",
    "    while True:\n",
    "        iterations = iterations+1\n",
    "        x_m = (x_l + x_r)/2\n",
    "        if(diff_f_x(x_m)==0 or iterations==iters):\n",
    "            return x_m,iterations\n",
    "        if np.sign(diff_f_x(x_m))*np.sign(diff_f_x(x_l)) < 0:\n",
    "            x_r = x_m\n",
    "        elif np.sign(diff_f_x(x_m))*np.sign(diff_f_x(x_l)) > 0:\n",
    "            x_l = x_m\n",
    "        "
   ]
  },
  {
   "cell_type": "code",
   "execution_count": 9,
   "metadata": {},
   "outputs": [
    {
     "name": "stdout",
     "output_type": "stream",
     "text": [
      "minimiser for 10 iters =  0.779296875 , iterations =  10\n",
      "minimiser for 20 iters =  0.7808856964111328 iterations =  20\n"
     ]
    }
   ],
   "source": [
    "root,it = bisection_method2([0,2],10)\n",
    "print('minimiser for 10 iters = ', root,', iterations = ',it)\n",
    "root,it = bisection_method2([0,2],20)\n",
    "print('minimiser for 20 iters = ',root,'iterations = ',it)"
   ]
  },
  {
   "cell_type": "code",
   "execution_count": null,
   "metadata": {},
   "outputs": [],
   "source": []
  }
 ],
 "metadata": {
  "kernelspec": {
   "display_name": "Python 3",
   "language": "python",
   "name": "python3"
  },
  "language_info": {
   "codemirror_mode": {
    "name": "ipython",
    "version": 3
   },
   "file_extension": ".py",
   "mimetype": "text/x-python",
   "name": "python",
   "nbconvert_exporter": "python",
   "pygments_lexer": "ipython3",
   "version": "3.7.6"
  }
 },
 "nbformat": 4,
 "nbformat_minor": 4
}
