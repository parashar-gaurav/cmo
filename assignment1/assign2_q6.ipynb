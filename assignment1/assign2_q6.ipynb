{
 "cells": [
  {
   "cell_type": "code",
   "execution_count": 14,
   "metadata": {},
   "outputs": [],
   "source": [
    "import numpy as np\n",
    "import matplotlib.pyplot as plt"
   ]
  },
  {
   "cell_type": "code",
   "execution_count": 36,
   "metadata": {},
   "outputs": [],
   "source": [
    "def fact(y):\n",
    "    res = 1\n",
    "    for i in range(2,y+1):\n",
    "        res = res*i\n",
    "    return res\n",
    "\n",
    "def x_k(iters):\n",
    "    x1  = 1 + 1/iters\n",
    "    x2 = 1 + (0.5)**(2**iters)\n",
    "    x3 = 1 + 1/fact(iters)\n",
    "    x4 = 2\n",
    "    it = 0 \n",
    "    while it <= iters:\n",
    "        x4 = x4 - (0.5**(it+1))\n",
    "        it = it+1\n",
    "    #return np.floor(x1),np.floor(x2),np.floor(x3),np.floor(x4)\n",
    "    return x1,x2,x3,x4"
   ]
  },
  {
   "cell_type": "code",
   "execution_count": 37,
   "metadata": {},
   "outputs": [
    {
     "name": "stdout",
     "output_type": "stream",
     "text": [
      "iterations = 1 res1 =  2.0 res2 =  1.25 res3 =  2.0 res 4 =  1.25\n",
      "iterations = 5 res1 =  1.2 res2 =  1.0000000002328306 res3 =  1.0083333333333333 res 4 =  1.015625\n",
      "iterations = 10 res1 =  1.1 res2 =  1.0 res3 =  1.0000002755731923 res 4 =  1.00048828125\n",
      "iterations = 20 res1 =  1.05 res2 =  1.0 res3 =  1.0 res 4 =  1.0000004768371582\n",
      "iterations = 50 res1 =  1.02 res2 =  1.0 res3 =  1.0 res 4 =  1.0000000000000004\n"
     ]
    }
   ],
   "source": [
    "#100 iterations:\n",
    "res1,res2,res3,res4 = x_k(1)\n",
    "print('iterations = 1', 'res1 = ',res1,'res2 = ',res2, 'res3 = ',res3,'res 4 = ',res4)\n",
    "\n",
    "res1,res2,res3,res4 = x_k(5)\n",
    "print('iterations = 5', 'res1 = ',res1,'res2 = ',res2, 'res3 = ',res3,'res 4 = ',res4)\n",
    "\n",
    "\n",
    "res1,res2,res3,res4 = x_k(10)\n",
    "print('iterations = 10', 'res1 = ',res1,'res2 = ',res2, 'res3 = ',res3,'res 4 = ',res4)\n",
    "\n",
    "\n",
    "res1,res2,res3,res4 = x_k(20)\n",
    "print('iterations = 20', 'res1 = ',res1,'res2 = ',res2, 'res3 = ',res3,'res 4 = ',res4)\n",
    "\n",
    "\n",
    "res1,res2,res3,res4 = x_k(50)\n",
    "print('iterations = 50', 'res1 = ',res1,'res2 = ',res2, 'res3 = ',res3,'res 4 = ',res4)"
   ]
  },
  {
   "cell_type": "code",
   "execution_count": 42,
   "metadata": {},
   "outputs": [],
   "source": [
    "def x_k1(iters):\n",
    "    x1  = 1 + 1/iters\n",
    "    x2 = 1 + (0.5)**(2**iters)\n",
    "    x3 = 1 + 1/fact(iters)\n",
    "    #x4 = 2\n",
    "    #it = 0 \n",
    "    #while it <= iters:\n",
    "    #    x4 = x4 - (0.5**(it+1))\n",
    "    #    it = it+1\n",
    "    return x1,x2,x3"
   ]
  },
  {
   "cell_type": "code",
   "execution_count": 53,
   "metadata": {},
   "outputs": [],
   "source": [
    "x = [1,2,3,4,5,6,7,8]\n",
    "y1 = []\n",
    "y2 = []\n",
    "y3 = []\n",
    "for it in range(1,9):\n",
    "    r1, r2, r3 = x_k1(it)\n",
    "    y1.append(r1)\n",
    "    y2.append(r2)\n",
    "    y3.append(r3)\n",
    "y4 = []\n",
    "x_0 = 2\n",
    "for it in range(1,9):\n",
    "    x_0 = x_0 - (0.5**it)\n",
    "    y4.append(x_0)\n"
   ]
  },
  {
   "cell_type": "code",
   "execution_count": 56,
   "metadata": {},
   "outputs": [
    {
     "data": {
      "text/plain": [
       "[<matplotlib.lines.Line2D at 0x7f9fc871d050>]"
      ]
     },
     "execution_count": 56,
     "metadata": {},
     "output_type": "execute_result"
    },
    {
     "data": {
      "image/png": "[encoded data removed]",
      "text/plain": [
       "<Figure size 432x288 with 1 Axes>"
      ]
     },
     "metadata": {
      "needs_background": "light"
     },
     "output_type": "display_data"
    }
   ],
   "source": [
    "plt.plot(x,y1,color='red')\n",
    "plt.plot(x,y2,color='green')\n",
    "plt.plot(x,y3,color='blue')\n",
    "plt.plot(x,y4,color='brown')"
   ]
  },
  {
   "cell_type": "code",
   "execution_count": null,
   "metadata": {},
   "outputs": [],
   "source": []
  }
 ],
 "metadata": {
  "kernelspec": {
   "display_name": "Python 3",
   "language": "python",
   "name": "python3"
  },
  "language_info": {
   "codemirror_mode": {
    "name": "ipython",
    "version": 3
   },
   "file_extension": ".py",
   "mimetype": "text/x-python",
   "name": "python",
   "nbconvert_exporter": "python",
   "pygments_lexer": "ipython3",
   "version": "3.7.6"
  }
 },
 "nbformat": 4,
 "nbformat_minor": 4
}
