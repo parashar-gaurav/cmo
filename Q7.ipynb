{
 "cells": [
  {
   "cell_type": "markdown",
   "metadata": {},
   "source": [
    "## One dimensional search method\n"
   ]
  },
  {
   "cell_type": "code",
   "execution_count": 125,
   "metadata": {},
   "outputs": [],
   "source": [
    "import numpy as np\n",
    "import math\n",
    "import matplotlib.pyplot as plt"
   ]
  },
  {
   "cell_type": "code",
   "execution_count": 126,
   "metadata": {},
   "outputs": [],
   "source": [
    "def foo(x):\n",
    "    return np.exp(-x) - np.cos(x)\n",
    "\n",
    "def foo1(x):\n",
    "    return math.exp(-x) - math.cos(x)"
   ]
  },
  {
   "cell_type": "code",
   "execution_count": 127,
   "metadata": {},
   "outputs": [],
   "source": [
    "x = []\n",
    "y = []\n",
    "a = 0\n",
    "while a<1:\n",
    "    x.append(a)\n",
    "    y.append(foo(a))\n",
    "    a = a + 0.001\n",
    "    "
   ]
  },
  {
   "cell_type": "code",
   "execution_count": 128,
   "metadata": {},
   "outputs": [
    {
     "data": {
      "text/plain": [
       "[<matplotlib.lines.Line2D at 0x7febb158af50>]"
      ]
     },
     "execution_count": 128,
     "metadata": {},
     "output_type": "execute_result"
    },
    {
     "data": {
      "image/png": "[encoded data removed]",
      "text/plain": [
       "<Figure size 432x288 with 1 Axes>"
      ]
     },
     "metadata": {
      "needs_background": "light"
     },
     "output_type": "display_data"
    }
   ],
   "source": [
    "plt.plot(x,y)"
   ]
  },
  {
   "cell_type": "markdown",
   "metadata": {},
   "source": [
    "$f(x) = e^{-x} - cos(x)$\n",
    "<hr>\n",
    "$f'(x) = -e^{-x} + sin(x)$\n",
    "<hr>\n",
    "$f'(x) = 0 \\implies e^{-x} = sin(x)$\n",
    "\n",
    "$x_{opt}\\ something\\ near\\ 0.62,\\ but\\ hard\\ to\\ find$"
   ]
  },
  {
   "cell_type": "markdown",
   "metadata": {},
   "source": [
    "## fibonacci search\n",
    "\n",
    "input : f, $x_l = a,$ $x_u = b$, N\n",
    "<hr>\n",
    "loop for N-1 times:\n",
    "<hr>\n",
    "  1. d = $(x_u - x_l)*\\rho$\n",
    "  <hr>\n",
    "  2. $x_{-} = x_u - d$, $x_+ = x_l + d$\n",
    "  <hr>\n",
    "  3. if $f(x_{-}) < f(x_{+}),$ then $x_u = x_+$ else $x_l = x_{-}$\n",
    "  <hr>\n",
    "  <hr>\n",
    "  Output = 0.5*$(x_l + x_u)$, tolerance = 0.5*$(x_u - x_l)$, NSC = number of times subroutine foo called"
   ]
  },
  {
   "cell_type": "code",
   "execution_count": 129,
   "metadata": {},
   "outputs": [],
   "source": [
    "def fib(val):\n",
    "    if val==0:\n",
    "        return 1\n",
    "    elif val==1:\n",
    "        return 1\n",
    "    else :\n",
    "        return fib(val-1)+fib(val-2)\n",
    "def fibS(f,a,b,N):\n",
    "    xl = a\n",
    "    xu = b\n",
    "    NSC = 0\n",
    "    func_ctr = 0\n",
    "    for k in range(1,N):\n",
    "        rho = fib(N-k)/fib(N-k+1)\n",
    "        #print('--------iteration k = ',k,'----------')\n",
    "        #print('fib(N-k)= ' ,'fib(',N-k,') = ',fib(N-k))\n",
    "        #print('fib(N-k+1) = ',  'fib(',N-k+1,') = ',fib(N-k+1))\n",
    "        #print('rho_k = ',fib(N-k)/fib(N-k+1))\n",
    "        d = (xu - xl)*rho\n",
    "        xm = xu - d\n",
    "        xp = xl + d\n",
    "        print('xl = ',xl)\n",
    "        print('xu = ',xu)\n",
    "        print('xm = ',xm)\n",
    "        print('xp = ',xp)\n",
    "        print('calculate function value for xm and xp = ',xm,xp )\n",
    "        if k == 1:\n",
    "            func_ctr += 2\n",
    "        else :\n",
    "            func_ctr += 1\n",
    "        if f(xm) < f(xp):\n",
    "            xu = xp\n",
    "            NSC+=2\n",
    "        else :\n",
    "            xl = xm\n",
    "            NSC+=2\n",
    "    print('number of function calls required = ', func_ctr)\n",
    "    return 0.5*(xl+xu),0.5*(xu-xl),NSC"
   ]
  },
  {
   "cell_type": "code",
   "execution_count": 130,
   "metadata": {},
   "outputs": [
    {
     "name": "stdout",
     "output_type": "stream",
     "text": [
      "xl =  0\n",
      "xu =  1\n",
      "xm =  0.38196601498264204\n",
      "xp =  0.618033985017358\n",
      "calculate function value for xm and xp =  0.38196601498264204 0.618033985017358\n",
      "xl =  0.38196601498264204\n",
      "xu =  1\n",
      "xm =  0.618033985017358\n",
      "xp =  0.7639320299652841\n",
      "calculate function value for xm and xp =  0.618033985017358 0.7639320299652841\n",
      "xl =  0.38196601498264204\n",
      "xu =  0.7639320299652841\n",
      "xm =  0.5278640599305682\n",
      "xp =  0.618033985017358\n",
      "calculate function value for xm and xp =  0.5278640599305682 0.618033985017358\n",
      "xl =  0.5278640599305682\n",
      "xu =  0.7639320299652841\n",
      "xm =  0.6180339850173578\n",
      "xp =  0.6737621048784944\n",
      "calculate function value for xm and xp =  0.6180339850173578 0.6737621048784944\n",
      "xl =  0.5278640599305682\n",
      "xu =  0.6737621048784944\n",
      "xm =  0.5835921797917047\n",
      "xp =  0.618033985017358\n",
      "calculate function value for xm and xp =  0.5835921797917047 0.618033985017358\n",
      "xl =  0.5278640599305682\n",
      "xu =  0.618033985017358\n",
      "xm =  0.5623058651562214\n",
      "xp =  0.5835921797917047\n",
      "calculate function value for xm and xp =  0.5623058651562214 0.5835921797917047\n",
      "xl =  0.5623058651562214\n",
      "xu =  0.618033985017358\n",
      "xm =  0.5835921797917047\n",
      "xp =  0.5967476703818746\n",
      "calculate function value for xm and xp =  0.5835921797917047 0.5967476703818746\n",
      "xl =  0.5623058651562214\n",
      "xu =  0.5967476703818746\n",
      "xm =  0.5754613557463913\n",
      "xp =  0.5835921797917046\n",
      "calculate function value for xm and xp =  0.5754613557463913 0.5835921797917046\n",
      "xl =  0.5754613557463913\n",
      "xu =  0.5967476703818746\n",
      "xm =  0.5835921797917046\n",
      "xp =  0.5886168463365613\n",
      "calculate function value for xm and xp =  0.5835921797917046 0.5886168463365613\n",
      "xl =  0.5835921797917046\n",
      "xu =  0.5967476703818746\n",
      "xm =  0.5886168463365612\n",
      "xp =  0.591723003837018\n",
      "calculate function value for xm and xp =  0.5886168463365612 0.591723003837018\n",
      "xl =  0.5835921797917046\n",
      "xu =  0.591723003837018\n",
      "xm =  0.5866983372921615\n",
      "xp =  0.5886168463365612\n",
      "calculate function value for xm and xp =  0.5866983372921615 0.5886168463365612\n",
      "xl =  0.5866983372921615\n",
      "xu =  0.591723003837018\n",
      "xm =  0.5886168463365613\n",
      "xp =  0.5898044947926182\n",
      "calculate function value for xm and xp =  0.5886168463365613 0.5898044947926182\n",
      "xl =  0.5866983372921615\n",
      "xu =  0.5898044947926182\n",
      "xm =  0.5878859857482185\n",
      "xp =  0.5886168463365612\n",
      "calculate function value for xm and xp =  0.5878859857482185 0.5886168463365612\n",
      "xl =  0.5878859857482185\n",
      "xu =  0.5898044947926182\n",
      "xm =  0.5886168463365612\n",
      "xp =  0.5890736342042755\n",
      "calculate function value for xm and xp =  0.5886168463365612 0.5890736342042755\n",
      "xl =  0.5878859857482185\n",
      "xu =  0.5890736342042755\n",
      "xm =  0.5883427736159327\n",
      "xp =  0.5886168463365613\n",
      "calculate function value for xm and xp =  0.5883427736159327 0.5886168463365613\n",
      "xl =  0.5883427736159327\n",
      "xu =  0.5890736342042755\n",
      "xm =  0.5886168463365612\n",
      "xp =  0.588799561483647\n",
      "calculate function value for xm and xp =  0.5886168463365612 0.588799561483647\n",
      "xl =  0.5883427736159327\n",
      "xu =  0.588799561483647\n",
      "xm =  0.5885254887630184\n",
      "xp =  0.5886168463365613\n",
      "calculate function value for xm and xp =  0.5885254887630184 0.5886168463365613\n",
      "xl =  0.5883427736159327\n",
      "xu =  0.5886168463365613\n",
      "xm =  0.5884341311894755\n",
      "xp =  0.5885254887630185\n",
      "calculate function value for xm and xp =  0.5884341311894755 0.5885254887630185\n",
      "xl =  0.5884341311894755\n",
      "xu =  0.5886168463365613\n",
      "xm =  0.5885254887630185\n",
      "xp =  0.5885254887630185\n",
      "calculate function value for xm and xp =  0.5885254887630185 0.5885254887630185\n",
      "number of function calls required =  20\n"
     ]
    }
   ],
   "source": [
    "x_hat1, tol1, NSC1 = fibS(foo,0,1,20)"
   ]
  },
  {
   "cell_type": "code",
   "execution_count": 131,
   "metadata": {},
   "outputs": [
    {
     "name": "stdout",
     "output_type": "stream",
     "text": [
      "x_hat =  0.5885711675497899\n",
      "tolerance =  4.567878677141923e-05\n"
     ]
    }
   ],
   "source": [
    "print('x_hat = ',x_hat1)\n",
    "print('tolerance = ',tol1)\n",
    "#print('NSC = ',NSC1)"
   ]
  },
  {
   "cell_type": "markdown",
   "metadata": {},
   "source": [
    "\n",
    "## part (b)"
   ]
  },
  {
   "cell_type": "code",
   "execution_count": 132,
   "metadata": {},
   "outputs": [],
   "source": [
    "def GSS(f,a,b,eps):\n",
    "    xl = a\n",
    "    xu = b\n",
    "    NSC = 0\n",
    "    tol = 0.5*(xu - xl)\n",
    "    lamda = 0.5*(1+np.sqrt(5))\n",
    "    rho = lamda/(lamda+1)\n",
    "    func_ctr = 0\n",
    "    iters = 0\n",
    "    while tol>eps:\n",
    "        iters +=1\n",
    "        d = (xu - xl)*rho\n",
    "        xm = xu - d\n",
    "        xp = xl + d\n",
    "        print('xl = ',xl)\n",
    "        print('xu = ',xu)\n",
    "        print('xm = ',xm)\n",
    "        print('xp = ',xp)\n",
    "        print('calculate function value for xm and xp = ',xm,xp )\n",
    "        if iters == 1:\n",
    "            func_ctr+=2\n",
    "        else:\n",
    "            func_ctr+=1\n",
    "        if f(xm) < f(xp):\n",
    "            xu = xp\n",
    "            NSC+=2\n",
    "        else :\n",
    "            xl = xm\n",
    "            NSC+=2\n",
    "        tol = 0.5*(xu - xl)\n",
    "    print('iterations = ',iters)\n",
    "    print('number of function calls required = ',func_ctr)\n",
    "    return 0.5*(xl+xu),0.5*(xu-xl),NSC"
   ]
  },
  {
   "cell_type": "code",
   "execution_count": 133,
   "metadata": {},
   "outputs": [
    {
     "name": "stdout",
     "output_type": "stream",
     "text": [
      "xl =  0\n",
      "xu =  1\n",
      "xm =  0.3819660112501051\n",
      "xp =  0.6180339887498949\n",
      "calculate function value for xm and xp =  0.3819660112501051 0.6180339887498949\n",
      "xl =  0.3819660112501051\n",
      "xu =  1\n",
      "xm =  0.6180339887498948\n",
      "xp =  0.7639320225002103\n",
      "calculate function value for xm and xp =  0.6180339887498948 0.7639320225002103\n",
      "xl =  0.3819660112501051\n",
      "xu =  0.7639320225002103\n",
      "xm =  0.5278640450004206\n",
      "xp =  0.6180339887498949\n",
      "calculate function value for xm and xp =  0.5278640450004206 0.6180339887498949\n",
      "xl =  0.5278640450004206\n",
      "xu =  0.7639320225002103\n",
      "xm =  0.6180339887498949\n",
      "xp =  0.6737620787507361\n",
      "calculate function value for xm and xp =  0.6180339887498949 0.6737620787507361\n",
      "xl =  0.5278640450004206\n",
      "xu =  0.6737620787507361\n",
      "xm =  0.5835921350012618\n",
      "xp =  0.6180339887498949\n",
      "calculate function value for xm and xp =  0.5835921350012618 0.6180339887498949\n",
      "xl =  0.5278640450004206\n",
      "xu =  0.6180339887498949\n",
      "xm =  0.5623058987490537\n",
      "xp =  0.5835921350012618\n",
      "calculate function value for xm and xp =  0.5623058987490537 0.5835921350012618\n",
      "xl =  0.5623058987490537\n",
      "xu =  0.6180339887498949\n",
      "xm =  0.5835921350012618\n",
      "xp =  0.5967477524976867\n",
      "calculate function value for xm and xp =  0.5835921350012618 0.5967477524976867\n",
      "xl =  0.5623058987490537\n",
      "xu =  0.5967477524976867\n",
      "xm =  0.5754615162454786\n",
      "xp =  0.5835921350012618\n",
      "calculate function value for xm and xp =  0.5754615162454786 0.5835921350012618\n",
      "xl =  0.5754615162454786\n",
      "xu =  0.5967477524976867\n",
      "xm =  0.583592135001262\n",
      "xp =  0.5886171337419034\n",
      "calculate function value for xm and xp =  0.583592135001262 0.5886171337419034\n",
      "xl =  0.583592135001262\n",
      "xu =  0.5967477524976867\n",
      "xm =  0.5886171337419034\n",
      "xp =  0.5917227537570453\n",
      "calculate function value for xm and xp =  0.5886171337419034 0.5917227537570453\n",
      "xl =  0.583592135001262\n",
      "xu =  0.5917227537570453\n",
      "xm =  0.5866977550164038\n",
      "xp =  0.5886171337419035\n",
      "calculate function value for xm and xp =  0.5866977550164038 0.5886171337419035\n",
      "xl =  0.5866977550164038\n",
      "xu =  0.5917227537570453\n",
      "xm =  0.5886171337419034\n",
      "xp =  0.5898033750315457\n",
      "calculate function value for xm and xp =  0.5886171337419034 0.5898033750315457\n",
      "xl =  0.5866977550164038\n",
      "xu =  0.5898033750315457\n",
      "xm =  0.587883996306046\n",
      "xp =  0.5886171337419034\n",
      "calculate function value for xm and xp =  0.587883996306046 0.5886171337419034\n",
      "xl =  0.587883996306046\n",
      "xu =  0.5898033750315457\n",
      "xm =  0.5886171337419035\n",
      "xp =  0.5890702375956882\n",
      "calculate function value for xm and xp =  0.5886171337419035 0.5890702375956882\n",
      "xl =  0.587883996306046\n",
      "xu =  0.5890702375956882\n",
      "xm =  0.5883371001598309\n",
      "xp =  0.5886171337419034\n",
      "calculate function value for xm and xp =  0.5883371001598309 0.5886171337419034\n",
      "xl =  0.5883371001598309\n",
      "xu =  0.5890702375956882\n",
      "xm =  0.5886171337419034\n",
      "xp =  0.5887902040136157\n",
      "calculate function value for xm and xp =  0.5886171337419034 0.5887902040136157\n",
      "xl =  0.5883371001598309\n",
      "xu =  0.5887902040136157\n",
      "xm =  0.5885101704315431\n",
      "xp =  0.5886171337419035\n",
      "calculate function value for xm and xp =  0.5885101704315431 0.5886171337419035\n",
      "xl =  0.5883371001598309\n",
      "xu =  0.5886171337419035\n",
      "xm =  0.5884440634701912\n",
      "xp =  0.5885101704315432\n",
      "calculate function value for xm and xp =  0.5884440634701912 0.5885101704315432\n",
      "xl =  0.5884440634701912\n",
      "xu =  0.5886171337419035\n",
      "xm =  0.5885101704315431\n",
      "xp =  0.5885510267805516\n",
      "calculate function value for xm and xp =  0.5885101704315431 0.5885510267805516\n",
      "xl =  0.5885101704315431\n",
      "xu =  0.5886171337419035\n",
      "xm =  0.5885510267805516\n",
      "xp =  0.588576277392895\n",
      "calculate function value for xm and xp =  0.5885510267805516 0.588576277392895\n",
      "iterations =  20\n",
      "number of function calls required =  21\n"
     ]
    }
   ],
   "source": [
    "x_hat_gs1, tolerance_gs1,NSC_GS1 = GSS(foo,0,1,tol1) "
   ]
  },
  {
   "cell_type": "code",
   "execution_count": 134,
   "metadata": {},
   "outputs": [
    {
     "name": "stdout",
     "output_type": "stream",
     "text": [
      "xhat gs 1 =  0.588543223912219\n",
      "tolerance gs 1 =  3.30534806759486e-05\n"
     ]
    }
   ],
   "source": [
    "\n",
    "print('xhat gs 1 = ',x_hat_gs1)\n",
    "print('tolerance gs 1 = ', tolerance_gs1)\n",
    "#print('NSC_GS1 = ',NSC_GS1)"
   ]
  },
  {
   "cell_type": "code",
   "execution_count": null,
   "metadata": {},
   "outputs": [],
   "source": []
  },
  {
   "cell_type": "code",
   "execution_count": null,
   "metadata": {},
   "outputs": [],
   "source": []
  },
  {
   "cell_type": "markdown",
   "metadata": {},
   "source": [
    "## part(c)"
   ]
  },
  {
   "cell_type": "code",
   "execution_count": 135,
   "metadata": {},
   "outputs": [
    {
     "name": "stdout",
     "output_type": "stream",
     "text": [
      "xl =  0\n",
      "xu =  1\n",
      "xm =  0.3820224719101124\n",
      "xp =  0.6179775280898876\n",
      "calculate function value for xm and xp =  0.3820224719101124 0.6179775280898876\n",
      "xl =  0.3820224719101124\n",
      "xu =  1\n",
      "xm =  0.6179775280898876\n",
      "xp =  0.7640449438202248\n",
      "calculate function value for xm and xp =  0.6179775280898876 0.7640449438202248\n",
      "xl =  0.3820224719101124\n",
      "xu =  0.7640449438202248\n",
      "xm =  0.5280898876404495\n",
      "xp =  0.6179775280898877\n",
      "calculate function value for xm and xp =  0.5280898876404495 0.6179775280898877\n",
      "xl =  0.5280898876404495\n",
      "xu =  0.7640449438202248\n",
      "xm =  0.6179775280898877\n",
      "xp =  0.6741573033707866\n",
      "calculate function value for xm and xp =  0.6179775280898877 0.6741573033707866\n",
      "xl =  0.5280898876404495\n",
      "xu =  0.6741573033707866\n",
      "xm =  0.5842696629213484\n",
      "xp =  0.6179775280898877\n",
      "calculate function value for xm and xp =  0.5842696629213484 0.6179775280898877\n",
      "xl =  0.5280898876404495\n",
      "xu =  0.6179775280898877\n",
      "xm =  0.5617977528089888\n",
      "xp =  0.5842696629213484\n",
      "calculate function value for xm and xp =  0.5617977528089888 0.5842696629213484\n",
      "xl =  0.5617977528089888\n",
      "xu =  0.6179775280898877\n",
      "xm =  0.5842696629213484\n",
      "xp =  0.5955056179775281\n",
      "calculate function value for xm and xp =  0.5842696629213484 0.5955056179775281\n",
      "xl =  0.5617977528089888\n",
      "xu =  0.5955056179775281\n",
      "xm =  0.5730337078651686\n",
      "xp =  0.5842696629213483\n",
      "calculate function value for xm and xp =  0.5730337078651686 0.5842696629213483\n",
      "xl =  0.5730337078651686\n",
      "xu =  0.5955056179775281\n",
      "xm =  0.5842696629213484\n",
      "xp =  0.5842696629213484\n",
      "calculate function value for xm and xp =  0.5842696629213484 0.5842696629213484\n",
      "number of function calls required =  10\n"
     ]
    }
   ],
   "source": [
    "x_hat2, tol2, NSC2 = fibS(foo,0,1,10)"
   ]
  },
  {
   "cell_type": "code",
   "execution_count": 136,
   "metadata": {},
   "outputs": [
    {
     "name": "stdout",
     "output_type": "stream",
     "text": [
      "x_hat =  0.5898876404494382\n",
      "tolerance =  0.005617977528089846\n"
     ]
    }
   ],
   "source": [
    "print('x_hat = ',x_hat2)\n",
    "print('tolerance = ',tol2)\n",
    "#print('NSC = ',NSC2)"
   ]
  },
  {
   "cell_type": "markdown",
   "metadata": {},
   "source": [
    "## part(d)"
   ]
  },
  {
   "cell_type": "code",
   "execution_count": 138,
   "metadata": {},
   "outputs": [
    {
     "name": "stdout",
     "output_type": "stream",
     "text": [
      "xl =  0\n",
      "xu =  1\n",
      "xm =  0.3819660112501051\n",
      "xp =  0.6180339887498949\n",
      "calculate function value for xm and xp =  0.3819660112501051 0.6180339887498949\n",
      "xl =  0.3819660112501051\n",
      "xu =  1\n",
      "xm =  0.6180339887498948\n",
      "xp =  0.7639320225002103\n",
      "calculate function value for xm and xp =  0.6180339887498948 0.7639320225002103\n",
      "xl =  0.3819660112501051\n",
      "xu =  0.7639320225002103\n",
      "xm =  0.5278640450004206\n",
      "xp =  0.6180339887498949\n",
      "calculate function value for xm and xp =  0.5278640450004206 0.6180339887498949\n",
      "xl =  0.5278640450004206\n",
      "xu =  0.7639320225002103\n",
      "xm =  0.6180339887498949\n",
      "xp =  0.6737620787507361\n",
      "calculate function value for xm and xp =  0.6180339887498949 0.6737620787507361\n",
      "xl =  0.5278640450004206\n",
      "xu =  0.6737620787507361\n",
      "xm =  0.5835921350012618\n",
      "xp =  0.6180339887498949\n",
      "calculate function value for xm and xp =  0.5835921350012618 0.6180339887498949\n",
      "xl =  0.5278640450004206\n",
      "xu =  0.6180339887498949\n",
      "xm =  0.5623058987490537\n",
      "xp =  0.5835921350012618\n",
      "calculate function value for xm and xp =  0.5623058987490537 0.5835921350012618\n",
      "xl =  0.5623058987490537\n",
      "xu =  0.6180339887498949\n",
      "xm =  0.5835921350012618\n",
      "xp =  0.5967477524976867\n",
      "calculate function value for xm and xp =  0.5835921350012618 0.5967477524976867\n",
      "xl =  0.5623058987490537\n",
      "xu =  0.5967477524976867\n",
      "xm =  0.5754615162454786\n",
      "xp =  0.5835921350012618\n",
      "calculate function value for xm and xp =  0.5754615162454786 0.5835921350012618\n",
      "xl =  0.5754615162454786\n",
      "xu =  0.5967477524976867\n",
      "xm =  0.583592135001262\n",
      "xp =  0.5886171337419034\n",
      "calculate function value for xm and xp =  0.583592135001262 0.5886171337419034\n",
      "xl =  0.583592135001262\n",
      "xu =  0.5967477524976867\n",
      "xm =  0.5886171337419034\n",
      "xp =  0.5917227537570453\n",
      "calculate function value for xm and xp =  0.5886171337419034 0.5917227537570453\n",
      "iterations =  10\n",
      "number of function calls required =  11\n",
      "xhat gs 2 =  0.5876574443791536\n",
      "tolerance gs 2 =  0.004065309377891679\n"
     ]
    }
   ],
   "source": [
    "x_hat_gs2, tolerance_gs2,NSC_GS2 = GSS(foo,0,1,tol2) \n",
    "print('xhat gs 2 = ',x_hat_gs2)\n",
    "print('tolerance gs 2 = ', tolerance_gs2)\n",
    "#print('NSC_GS2 = ',NSC_GS2)"
   ]
  },
  {
   "cell_type": "code",
   "execution_count": 123,
   "metadata": {},
   "outputs": [
    {
     "name": "stdout",
     "output_type": "stream",
     "text": [
      "1\n",
      "1\n",
      "2\n",
      "3\n",
      "5\n",
      "8\n",
      "13\n",
      "21\n",
      "34\n",
      "55\n",
      "89\n",
      "144\n",
      "233\n",
      "377\n",
      "610\n"
     ]
    }
   ],
   "source": [
    "for i in range(15):\n",
    "    print(fib(i))"
   ]
  },
  {
   "cell_type": "code",
   "execution_count": null,
   "metadata": {},
   "outputs": [],
   "source": []
  },
  {
   "cell_type": "code",
   "execution_count": null,
   "metadata": {},
   "outputs": [],
   "source": []
  }
 ],
 "metadata": {
  "kernelspec": {
   "display_name": "Python 3",
   "language": "python",
   "name": "python3"
  },
  "language_info": {
   "codemirror_mode": {
    "name": "ipython",
    "version": 3
   },
   "file_extension": ".py",
   "mimetype": "text/x-python",
   "name": "python",
   "nbconvert_exporter": "python",
   "pygments_lexer": "ipython3",
   "version": "3.7.6"
  }
 },
 "nbformat": 4,
 "nbformat_minor": 4
}
